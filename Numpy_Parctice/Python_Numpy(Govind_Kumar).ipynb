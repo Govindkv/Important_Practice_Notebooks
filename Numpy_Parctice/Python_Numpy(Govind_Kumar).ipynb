{
 "cells": [
  {
   "cell_type": "code",
   "execution_count": 2,
   "id": "46ee82c2-e280-4008-ba53-659d81a707c1",
   "metadata": {},
   "outputs": [],
   "source": [
    "import numpy as np"
   ]
  },
  {
   "cell_type": "code",
   "execution_count": 2,
   "id": "7eab3330-70c6-4d66-8b53-9290017def93",
   "metadata": {},
   "outputs": [
    {
     "name": "stdout",
     "output_type": "stream",
     "text": [
      "[1 2 3 4]\n"
     ]
    },
    {
     "data": {
      "text/plain": [
       "numpy.ndarray"
      ]
     },
     "execution_count": 2,
     "metadata": {},
     "output_type": "execute_result"
    }
   ],
   "source": [
    "#1.Create a NumPy array from a python list\n",
    "list1=[1,2,3,4]\n",
    "l_to_array=np.array(list1)\n",
    "print(l_to_array)\n",
    "type(l_to_array)"
   ]
  },
  {
   "cell_type": "code",
   "execution_count": 3,
   "id": "238cffad-04d0-4b17-9fb7-8a6f33d8c6b0",
   "metadata": {},
   "outputs": [
    {
     "data": {
      "text/plain": [
       "numpy.ndarray"
      ]
     },
     "execution_count": 3,
     "metadata": {},
     "output_type": "execute_result"
    }
   ],
   "source": [
    "#2.Print the type of the array created above\n",
    "list1=[1,2,3,4]\n",
    "l_to_array=np.array(list1)\n",
    "type(l_to_array)"
   ]
  },
  {
   "cell_type": "code",
   "execution_count": 4,
   "id": "496ac475-bf13-4126-abbc-f9ba8d6c79a8",
   "metadata": {},
   "outputs": [
    {
     "data": {
      "text/plain": [
       "array([[1, 2, 3],\n",
       "       [4, 5, 6]])"
      ]
     },
     "execution_count": 4,
     "metadata": {},
     "output_type": "execute_result"
    }
   ],
   "source": [
    "#3.Create a NumPy array from a python list of lists\n",
    "list_1=[[1,2,3],[4,5,6]]\n",
    "np.array(list_1)"
   ]
  },
  {
   "cell_type": "code",
   "execution_count": 5,
   "id": "45ff5727-219c-49b3-ac2a-44df32d8760f",
   "metadata": {},
   "outputs": [
    {
     "data": {
      "text/plain": [
       "numpy.ndarray"
      ]
     },
     "execution_count": 5,
     "metadata": {},
     "output_type": "execute_result"
    }
   ],
   "source": [
    "#4.Print the type of the array created above\n",
    "type(np.array(list_1))"
   ]
  },
  {
   "cell_type": "code",
   "execution_count": null,
   "id": "16a4bc2f-9b68-4c3e-a112-20e0e0ca3faf",
   "metadata": {},
   "outputs": [],
   "source": []
  },
  {
   "cell_type": "code",
   "execution_count": 6,
   "id": "7edf1108-6c71-4b13-b55d-fde6ced45a11",
   "metadata": {},
   "outputs": [
    {
     "name": "stdout",
     "output_type": "stream",
     "text": [
      "[[1. 2. 3.]\n",
      " [4. 5. 6.]]\n"
     ]
    },
    {
     "data": {
      "text/plain": [
       "dtype('float32')"
      ]
     },
     "execution_count": 6,
     "metadata": {},
     "output_type": "execute_result"
    }
   ],
   "source": [
    "#5.While creating the numpy array, specify the data type as float32.\n",
    "a = [[1,2,3], [4,5,6]]\n",
    "\n",
    "np_array =np.array(a).astype(\"float32\")\n",
    "print(np_array)\n",
    "np_array.dtype"
   ]
  },
  {
   "cell_type": "code",
   "execution_count": 15,
   "id": "f983b632-e885-4de6-b406-a28607f4e57f",
   "metadata": {},
   "outputs": [
    {
     "name": "stdout",
     "output_type": "stream",
     "text": [
      "[[0. 0. 0.]\n",
      " [0. 0. 0.]\n",
      " [0. 0. 0.]]\n"
     ]
    },
    {
     "data": {
      "text/plain": [
       "numpy.ndarray"
      ]
     },
     "execution_count": 15,
     "metadata": {},
     "output_type": "execute_result"
    }
   ],
   "source": [
    "#6.Create a NumPy array of Zeros\n",
    "np_array = np.zeros((3,3))\n",
    "print(np_array)\n",
    "type(np_array)"
   ]
  },
  {
   "cell_type": "code",
   "execution_count": 19,
   "id": "7cca82e8-6757-469d-b3e0-1d3ea47a1077",
   "metadata": {},
   "outputs": [
    {
     "name": "stdout",
     "output_type": "stream",
     "text": [
      "3\n"
     ]
    },
    {
     "data": {
      "text/plain": [
       "array([[[0.],\n",
       "        [0.],\n",
       "        [0.]],\n",
       "\n",
       "       [[0.],\n",
       "        [0.],\n",
       "        [0.]],\n",
       "\n",
       "       [[0.],\n",
       "        [0.],\n",
       "        [0.]]])"
      ]
     },
     "execution_count": 19,
     "metadata": {},
     "output_type": "execute_result"
    }
   ],
   "source": [
    "#7.Create a multi-dimensional NumPy array of Zeros\n",
    "np_array = np.zeros((3,3,1))\n",
    "print(np_array.ndim)\n",
    "np_array"
   ]
  },
  {
   "cell_type": "code",
   "execution_count": 22,
   "id": "28183f9d-e19b-45ff-b199-7f2b4602bbb3",
   "metadata": {},
   "outputs": [
    {
     "data": {
      "text/plain": [
       "array([[1, 1, 1],\n",
       "       [1, 1, 1],\n",
       "       [1, 1, 1]], dtype=int32)"
      ]
     },
     "execution_count": 22,
     "metadata": {},
     "output_type": "execute_result"
    }
   ],
   "source": [
    "#8.Create a NumPy array of Ones\n",
    "arr_=np.ones((3,3)).astype(\"int32\")\n",
    "arr_"
   ]
  },
  {
   "cell_type": "code",
   "execution_count": 23,
   "id": "8f4a455d-a057-4adc-8e69-0f8e5495008c",
   "metadata": {},
   "outputs": [
    {
     "data": {
      "text/plain": [
       "array([[[1],\n",
       "        [1],\n",
       "        [1]],\n",
       "\n",
       "       [[1],\n",
       "        [1],\n",
       "        [1]],\n",
       "\n",
       "       [[1],\n",
       "        [1],\n",
       "        [1]]], dtype=int32)"
      ]
     },
     "execution_count": 23,
     "metadata": {},
     "output_type": "execute_result"
    }
   ],
   "source": [
    "#9.Create a multi-dimensional NumPy array of Ones\n",
    "arr_=np.ones((3,3,1)).astype(\"int32\")\n",
    "arr_"
   ]
  },
  {
   "cell_type": "code",
   "execution_count": 26,
   "id": "bba4cf56-ae84-422b-a34e-6648124af621",
   "metadata": {},
   "outputs": [
    {
     "data": {
      "text/plain": [
       "array([[1, 0, 0],\n",
       "       [0, 1, 0],\n",
       "       [0, 0, 1]], dtype=int8)"
      ]
     },
     "execution_count": 26,
     "metadata": {},
     "output_type": "execute_result"
    }
   ],
   "source": [
    "#10.Create an Identity Numpy Array of order 3\n",
    "arr=np.identity(3).astype(\"int8\")\n",
    "arr"
   ]
  },
  {
   "cell_type": "code",
   "execution_count": 3,
   "id": "99bcd845-7c7e-4a09-bd60-c0c7a7aa2055",
   "metadata": {},
   "outputs": [
    {
     "data": {
      "text/plain": [
       "array([ 0,  1,  2,  3,  4,  5,  6,  7,  8,  9, 10])"
      ]
     },
     "execution_count": 3,
     "metadata": {},
     "output_type": "execute_result"
    }
   ],
   "source": [
    "#11-13.Create an equally spaced Numpy Array with a specific step\n",
    "'''Generate values from start=0 to stop=10 with step=1:'''\n",
    "np.arange(0,11,1)"
   ]
  },
  {
   "cell_type": "code",
   "execution_count": 5,
   "id": "ad4fb80b-1fde-47cd-b43d-8f6e35b95c3f",
   "metadata": {},
   "outputs": [
    {
     "data": {
      "text/plain": [
       "array([ 5,  6,  7,  8,  9, 10, 11])"
      ]
     },
     "execution_count": 5,
     "metadata": {},
     "output_type": "execute_result"
    }
   ],
   "source": [
    "#Generate values from start=5to stop=11 with step=1:\n",
    "np.arange(5,12,1)"
   ]
  },
  {
   "cell_type": "code",
   "execution_count": 6,
   "id": "d054efd7-eedc-4cdb-aaf3-9f1e5f052f9b",
   "metadata": {},
   "outputs": [
    {
     "data": {
      "text/plain": [
       "array([5, 7, 9])"
      ]
     },
     "execution_count": 6,
     "metadata": {},
     "output_type": "execute_result"
    }
   ],
   "source": [
    "#Generate values start=5 to step=11 with step=2.\n",
    "np.arange(5,11,2)"
   ]
  },
  {
   "cell_type": "code",
   "execution_count": 8,
   "id": "a429859c-0224-452d-a81b-a3a2486b0ce9",
   "metadata": {},
   "outputs": [
    {
     "data": {
      "text/plain": [
       "array([ 0. ,  2.5,  5. ,  7.5, 10. ])"
      ]
     },
     "execution_count": 8,
     "metadata": {},
     "output_type": "execute_result"
    }
   ],
   "source": [
    "#14-15.Create an equally spaced Numpy Array with a specific array size.\n",
    "'''Generate a numpy array of size 5 with start=0 to stop=10'''\n",
    "np.linspace(0,10,5)"
   ]
  },
  {
   "cell_type": "code",
   "execution_count": 9,
   "id": "0f995d11-a4ec-4496-a9e0-c04e4dbb7eb7",
   "metadata": {},
   "outputs": [
    {
     "data": {
      "text/plain": [
       "array([5. , 5.5, 6. , 6.5, 7. ])"
      ]
     },
     "execution_count": 9,
     "metadata": {},
     "output_type": "execute_result"
    }
   ],
   "source": [
    "#Generate a numpy array of size 5 with start=5 to stop=7\n",
    "np.linspace(5,7,5)"
   ]
  },
  {
   "cell_type": "code",
   "execution_count": 3,
   "id": "468b4151-eafe-44ec-9cb9-5d938bcae50c",
   "metadata": {},
   "outputs": [
    {
     "data": {
      "text/plain": [
       "array([2, 5, 9, 3, 8])"
      ]
     },
     "execution_count": 3,
     "metadata": {},
     "output_type": "execute_result"
    }
   ],
   "source": [
    "#Generate a random integer array of size 5 with start=0 to stop=10\n",
    "np.random.randint(0,10,5)"
   ]
  },
  {
   "cell_type": "code",
   "execution_count": 6,
   "id": "0311b819-0984-426d-b057-8c4f35506957",
   "metadata": {},
   "outputs": [
    {
     "data": {
      "text/plain": [
       "array([0.34559984, 0.21368131, 0.64862974, 0.2135445 , 0.34222321,\n",
       "       0.12063526, 0.79128799, 0.16600988, 0.06666089, 0.97808601])"
      ]
     },
     "execution_count": 6,
     "metadata": {},
     "output_type": "execute_result"
    }
   ],
   "source": [
    "#Generate a random float array of size 10\n",
    "np.random.rand(10)"
   ]
  },
  {
   "cell_type": "code",
   "execution_count": 13,
   "id": "22c6fb40-2b0e-475a-8d18-5503a76fbbff",
   "metadata": {},
   "outputs": [
    {
     "name": "stdout",
     "output_type": "stream",
     "text": [
      "[1 2 3 4]\n"
     ]
    }
   ],
   "source": [
    "#18-19.Generate NumPy Array from a Pandas Series using two methods\n",
    "#Method_1\n",
    "s = pd.Series([1,2,3,4], name = \"col\")\n",
    "\n",
    "np_array =np.asarray(s)\n",
    "print(np_array)"
   ]
  },
  {
   "cell_type": "code",
   "execution_count": 14,
   "id": "33c263a3-e909-498e-9192-b4dbb0fd4a0c",
   "metadata": {},
   "outputs": [
    {
     "name": "stdout",
     "output_type": "stream",
     "text": [
      "[1 2 3 4]\n"
     ]
    }
   ],
   "source": [
    "#Method_2\n",
    "s = pd.Series([1,2,3,4], name = \"col\")\n",
    "\n",
    "np_array = np.asarray(s)\n",
    "print(np_array)"
   ]
  },
  {
   "cell_type": "code",
   "execution_count": 21,
   "id": "01699f75-3a73-4e93-883b-629188dbce44",
   "metadata": {},
   "outputs": [
    {
     "name": "stdout",
     "output_type": "stream",
     "text": [
      "a= [[1. 1. 1.]\n",
      " [1. 1. 1.]]\n",
      "\n",
      "[[1.]\n",
      " [1.]\n",
      " [1.]\n",
      " [1.]\n",
      " [1.]\n",
      " [1.]]\n"
     ]
    }
   ],
   "source": [
    "#20-21.Shape of the NumPy Array in two ways\n",
    "#Method_1\n",
    "a = np.ones((2, 3))\n",
    "\n",
    "shape_of_a = np.reshape(a,(6,1))\n",
    "print(\"a=\",a)\n",
    "print()\n",
    "print(shape_of_a)"
   ]
  },
  {
   "cell_type": "code",
   "execution_count": 22,
   "id": "b12cca3b-0998-4d15-a9bd-eaef89857f8b",
   "metadata": {},
   "outputs": [
    {
     "name": "stdout",
     "output_type": "stream",
     "text": [
      "a= [[1. 1. 1.]\n",
      " [1. 1. 1.]]\n",
      "\n",
      "[[1. 1.]\n",
      " [1. 1.]\n",
      " [1. 1.]]\n"
     ]
    }
   ],
   "source": [
    "#20-21.Shape of the NumPy Array in two ways\n",
    "#Method_2\n",
    "a = np.ones((2, 3))\n",
    "\n",
    "shape_of_a = np.reshape(a,(3,2))\n",
    "print(\"a=\",a)\n",
    "print()\n",
    "print(shape_of_a)"
   ]
  },
  {
   "cell_type": "code",
   "execution_count": 11,
   "id": "103c4e9c-3fbc-4e11-bf1d-be431661fecd",
   "metadata": {},
   "outputs": [
    {
     "name": "stdout",
     "output_type": "stream",
     "text": [
      "[[ 1.          3.11111111  5.22222222  7.33333333  9.44444444]\n",
      " [11.55555556 13.66666667 15.77777778 17.88888889 20.        ]]\n",
      "(2, 5)\n"
     ]
    }
   ],
   "source": [
    "#22.Reshape the NumPy Array to 2*5\n",
    "arr_22=np.linspace(1,20,10)\n",
    "arr_2_by_5=np.reshape(arr_22,(2,5))\n",
    "print(arr_2_by_5)\n",
    "print(arr_2_by_5.shape)"
   ]
  },
  {
   "cell_type": "code",
   "execution_count": 24,
   "id": "04812d16-3ce0-453c-9b14-8e20f5d43fc1",
   "metadata": {},
   "outputs": [
    {
     "name": "stdout",
     "output_type": "stream",
     "text": [
      "Array:\n",
      "[[19 17  4]\n",
      " [ 3 11  2]]\n",
      "\n",
      "Transpose_1:\n",
      "[[19  3]\n",
      " [17 11]\n",
      " [ 4  2]]\n",
      "\n",
      "Transpose_2:\n",
      "[[19  3]\n",
      " [17 11]\n",
      " [ 4  2]]\n"
     ]
    }
   ],
   "source": [
    "#23-24.Transpose the NumPy Array in two ways.\n",
    "arr_23=np.reshape(np.random.randint(2,20,6),(2,3))\n",
    "#Way_1\n",
    "Transpose_1=arr_23.T\n",
    "#Way_2\n",
    "Transpose_2=np.transpose(arr_23)\n",
    "print(\"Array:\")\n",
    "print(arr_23)\n",
    "print()\n",
    "print(\"Transpose_1:\")\n",
    "print(Transpose_1)\n",
    "print()\n",
    "print(\"Transpose_2:\")\n",
    "print(Transpose_2)"
   ]
  },
  {
   "cell_type": "code",
   "execution_count": 2,
   "id": "7dd9b2de-8583-4d0e-81b5-bfaebadb6817",
   "metadata": {},
   "outputs": [],
   "source": [
    "#25-27.Concatenate multiple NumPy arrays to form one NumPy Array"
   ]
  },
  {
   "cell_type": "code",
   "execution_count": 29,
   "id": "0099582b-602b-4db1-b715-10df4f9c9589",
   "metadata": {},
   "outputs": [
    {
     "name": "stdout",
     "output_type": "stream",
     "text": [
      "[[1 2]\n",
      " [3 4]\n",
      " [5 6]]\n"
     ]
    }
   ],
   "source": [
    "#Concatenate row-wise\n",
    "a = np.array([[1, 2], [3, 4]])\n",
    "b = np.array([[5, 6]])\n",
    "\n",
    "np_array_row =np.concatenate((a,b),axis=0) #Axis=0 for row wise\n",
    "print(np_array)"
   ]
  },
  {
   "cell_type": "code",
   "execution_count": 32,
   "id": "d79708fa-49f5-4caa-b8bc-c0494b822c94",
   "metadata": {},
   "outputs": [
    {
     "name": "stdout",
     "output_type": "stream",
     "text": [
      "[[1 2 5]\n",
      " [3 4 6]]\n"
     ]
    }
   ],
   "source": [
    "#Concatenate column-wise\n",
    "a = np.array([[1, 2], [3, 4]])\n",
    "b = np.array([[5, 6]])\n",
    "#\n",
    "np_array_column =np.concatenate((a,b.T),axis=1) #Axis=1 for column wise(b.T=make sure the no. of rows are equal)\n",
    "print(np_array_column)"
   ]
  },
  {
   "cell_type": "code",
   "execution_count": 33,
   "id": "b42323bd-18d7-4d3b-b8fa-f1b7662a6c02",
   "metadata": {},
   "outputs": [
    {
     "name": "stdout",
     "output_type": "stream",
     "text": [
      "[1 2 3 4 5 6]\n"
     ]
    }
   ],
   "source": [
    "#Concatenate to generate a flat NumPy Array\n",
    "a = np.array([[1, 2], [3, 4]])\n",
    "b = np.array([[5, 6]])\n",
    "\n",
    "np_array =np.concatenate((a,b),axis=None) #Axis=None for Flat\n",
    "print(np_array)"
   ]
  },
  {
   "cell_type": "code",
   "execution_count": 35,
   "id": "3a05a53b-0a77-4926-8dd4-3438a4fb495d",
   "metadata": {},
   "outputs": [
    {
     "name": "stdout",
     "output_type": "stream",
     "text": [
      "[[1 2]\n",
      " [3 4]\n",
      " [5 6]]\n"
     ]
    }
   ],
   "source": [
    "#28-29. Concatenate using vstack() and hstack()\n",
    "#vstack()\n",
    "a = np.array([[1, 2], [3, 4]])\n",
    "b = np.array([[5, 6]])\n",
    "\n",
    "np_array = np.vstack((a,b))\n",
    "print(np_array)"
   ]
  },
  {
   "cell_type": "code",
   "execution_count": 38,
   "id": "9d067703-35a8-434b-92e6-bd4b47e5dc0b",
   "metadata": {},
   "outputs": [
    {
     "name": "stdout",
     "output_type": "stream",
     "text": [
      "[[1 2 5]\n",
      " [3 4 6]]\n"
     ]
    }
   ],
   "source": [
    "#hstack\n",
    "a = np.array([[1, 2], [3, 4]])\n",
    "b = np.array([[5, 6]])\n",
    "\n",
    "np_array = np.hstack((a,b.T))\n",
    "print(np_array)"
   ]
  },
  {
   "cell_type": "code",
   "execution_count": 39,
   "id": "c10abcf8-4ed1-48b4-8814-32041ae78316",
   "metadata": {},
   "outputs": [
    {
     "name": "stdout",
     "output_type": "stream",
     "text": [
      "[1 2 3 4]\n"
     ]
    }
   ],
   "source": [
    "#30. Flatten NumPy Array\n",
    "a = np.array([[1,2], [3,4]])\n",
    "\n",
    "Flat_arr =a.flatten()\n",
    "print(Flat_arr)"
   ]
  },
  {
   "cell_type": "code",
   "execution_count": 41,
   "id": "9c76bd95-d5de-4e4c-9420-6fff425088af",
   "metadata": {},
   "outputs": [
    {
     "name": "stdout",
     "output_type": "stream",
     "text": [
      "[1 2 3]\n"
     ]
    }
   ],
   "source": [
    "#31-33. Print Unique Elements of a NumPy Array\n",
    "a = np.array([[1,2], [3,2]])\n",
    "\n",
    "Unique_elements = np.unique(a)\n",
    "print(Unique_elements)"
   ]
  },
  {
   "cell_type": "code",
   "execution_count": 44,
   "id": "544643c3-454a-4fa0-a5d6-75aaab3dc2b7",
   "metadata": {},
   "outputs": [
    {
     "name": "stdout",
     "output_type": "stream",
     "text": [
      "[[1 2 3]\n",
      " [2 3 4]]\n"
     ]
    }
   ],
   "source": [
    "#return unique rows\n",
    "a = np.array([[1, 2, 3], [1, 2, 3], [2, 3, 4]])\n",
    "\n",
    "Unique_rows =np.unique(a,axis=0) #Axis=0 for unique Rows\n",
    "print(Unique_rows)"
   ]
  },
  {
   "cell_type": "code",
   "execution_count": 46,
   "id": "1b281a83-c107-4061-91f9-553713e80f42",
   "metadata": {},
   "outputs": [
    {
     "name": "stdout",
     "output_type": "stream",
     "text": [
      "[[1 3]\n",
      " [1 3]\n",
      " [1 4]]\n"
     ]
    }
   ],
   "source": [
    "#return unique columns\n",
    "a = np.array([[1, 1, 3], [1, 1, 3], [1, 1, 4]])\n",
    "\n",
    "Unique_columns=np.unique(a,axis=1) #Axis=1, for unique columns\n",
    "print(Unique_columns)"
   ]
  },
  {
   "cell_type": "code",
   "execution_count": 48,
   "id": "fdac56b2-8ca2-48d6-8b16-1f5b75c293a0",
   "metadata": {},
   "outputs": [
    {
     "name": "stdout",
     "output_type": "stream",
     "text": [
      "[0 1 2]\n"
     ]
    }
   ],
   "source": [
    "#34.Squeeze the NumPy Array\n",
    "a = np.array([[[0], [1], [2]]])\n",
    "\n",
    "Squeezed_Arr =np.squeeze(a)\n",
    "print(Squeezed_Arr)"
   ]
  },
  {
   "cell_type": "code",
   "execution_count": 51,
   "id": "846bd7e7-1fce-4e83-9da1-0025a1b9b481",
   "metadata": {},
   "outputs": [
    {
     "name": "stdout",
     "output_type": "stream",
     "text": [
      "[[1, 1, 3], [1, 1, 3], [1, 1, 4]]\n"
     ]
    }
   ],
   "source": [
    "#35.Get Python list from NumPy array.\n",
    "arr = np.array([[1, 1, 3], [1, 1, 3], [1, 1, 4]])\n",
    "\n",
    "py_list =arr.tolist()\n",
    "print(py_list)"
   ]
  },
  {
   "cell_type": "code",
   "execution_count": 4,
   "id": "83c5ea09-30c1-4b7b-8927-bef6214b1fd7",
   "metadata": {},
   "outputs": [
    {
     "name": "stdout",
     "output_type": "stream",
     "text": [
      "[[2 3 6]\n",
      " [2 3 6]\n",
      " [3 4 8]]\n"
     ]
    }
   ],
   "source": [
    "#36. Add two numpy arrays element-wise\n",
    "a = np.array([[1, 1, 3], [1, 1, 3], [1, 1, 4]])\n",
    "b = np.array([[1, 2, 3], [1, 2, 3], [2, 3, 4]])\n",
    "\n",
    "np_array =a+b\n",
    "print(np_array)"
   ]
  },
  {
   "cell_type": "code",
   "execution_count": 5,
   "id": "6264ed1b-81c4-49af-84b9-899eac8d00d3",
   "metadata": {},
   "outputs": [
    {
     "name": "stdout",
     "output_type": "stream",
     "text": [
      "[[ 1  2  9]\n",
      " [ 1  2  9]\n",
      " [ 2  3 16]]\n"
     ]
    }
   ],
   "source": [
    "#37. Multiple two numpy arrays element-wise\n",
    "a = np.array([[1, 1, 3], [1, 1, 3], [1, 1, 4]])\n",
    "b = np.array([[1, 2, 3], [1, 2, 3], [2, 3, 4]])\n",
    "\n",
    "np_array = a*b\n",
    "print(np_array)"
   ]
  },
  {
   "cell_type": "code",
   "execution_count": 6,
   "id": "7b494dce-60b9-4206-b900-5029f0dfa894",
   "metadata": {},
   "outputs": [
    {
     "name": "stdout",
     "output_type": "stream",
     "text": [
      "[[ 0 -1  0]\n",
      " [ 0 -1  0]\n",
      " [-1 -2  0]]\n"
     ]
    }
   ],
   "source": [
    "#38. Subtract two numpy arrays element-wise\n",
    "a = np.array([[1, 1, 3], [1, 1, 3], [1, 1, 4]])\n",
    "b = np.array([[1, 2, 3], [1, 2, 3], [2, 3, 4]])\n",
    "\n",
    "np_array = a-b\n",
    "print(np_array)"
   ]
  },
  {
   "cell_type": "code",
   "execution_count": 7,
   "id": "fe903349-047d-4b3b-af5d-42e6c3802da0",
   "metadata": {},
   "outputs": [
    {
     "name": "stdout",
     "output_type": "stream",
     "text": [
      "[[1.         0.5        1.        ]\n",
      " [1.         0.5        1.        ]\n",
      " [0.5        0.33333333 1.        ]]\n"
     ]
    }
   ],
   "source": [
    "#39. Divide two numpy arrays element-wise\n",
    "a = np.array([[1, 1, 3], [1, 1, 3], [1, 1, 4]])\n",
    "b = np.array([[1, 2, 3], [1, 2, 3], [2, 3, 4]])\n",
    "\n",
    "np_array = a/b\n",
    "print(np_array)"
   ]
  },
  {
   "cell_type": "code",
   "execution_count": 14,
   "id": "00322aad-f4f1-4671-8907-1b955d23ffc5",
   "metadata": {},
   "outputs": [
    {
     "name": "stdout",
     "output_type": "stream",
     "text": [
      "np_sin_x: [0.84 0.91 0.14]\n",
      "np_tan_x: [ 1.56 -2.19 -0.14]\n",
      "np_cosn_x: [ 0.54 -0.42 -0.99]\n"
     ]
    }
   ],
   "source": [
    "#40-42. Trigonometric functions\n",
    "x = np.array([1,2,3])\n",
    "\n",
    "np_sin_x = np.sin(x).round(2)\n",
    "np_cos_x = np.cos(x).round(2)\n",
    "np_tan_x = np.tan(x).round(2)\n",
    "print(\"np_sin_x:\",np_sin_x)\n",
    "print(\"np_tan_x:\",np_tan_x)\n",
    "print(\"np_cosn_x:\",np_cos_x)"
   ]
  },
  {
   "cell_type": "code",
   "execution_count": 20,
   "id": "d1acd711-2c16-4d46-a911-41c79b366005",
   "metadata": {},
   "outputs": [
    {
     "name": "stdout",
     "output_type": "stream",
     "text": [
      "Array: [1.   1.25 1.5  1.75 2.  ]\n",
      "Floored: [1. 1. 1. 1. 2.]\n"
     ]
    }
   ],
   "source": [
    "#43. Print the element-wise floor \n",
    "a = np.linspace(1, 2, 5)\n",
    "\n",
    "np_array = np.floor(a)\n",
    "print(\"Array:\",a)\n",
    "print(\"Floored:\",np_array)"
   ]
  },
  {
   "cell_type": "code",
   "execution_count": 23,
   "id": "aa86b03f-46cd-4acc-b507-c974472e7271",
   "metadata": {},
   "outputs": [
    {
     "name": "stdout",
     "output_type": "stream",
     "text": [
      "Array: [1.   1.25 1.5  1.75 2.  ]\n",
      "Ceiled: [1. 2. 2. 2. 2.]\n"
     ]
    }
   ],
   "source": [
    "#44. Print the element-wise ceil\n",
    "a = np.linspace(1, 2, 5)\n",
    "\n",
    "np_array = np.ceil(a)\n",
    "print(\"Array:\",a)\n",
    "print(\"Ceiled:\",np_array)"
   ]
  },
  {
   "cell_type": "code",
   "execution_count": 24,
   "id": "b9956057-98e0-410e-a43e-3712cd33fe42",
   "metadata": {},
   "outputs": [
    {
     "name": "stdout",
     "output_type": "stream",
     "text": [
      "[1. 1. 2. 2. 2.]\n"
     ]
    }
   ],
   "source": [
    "#45.Print the element-wise nearest integer\n",
    "a = np.linspace(1, 2, 5)\n",
    "\n",
    "np_array = np.round(a)\n",
    "print(np_array)"
   ]
  },
  {
   "cell_type": "code",
   "execution_count": 25,
   "id": "e994cf0c-1bb3-4c24-8827-073927011ac2",
   "metadata": {},
   "outputs": [
    {
     "name": "stdout",
     "output_type": "stream",
     "text": [
      "[1.   1.17 1.33 1.5  1.67 1.83 2.  ]\n"
     ]
    }
   ],
   "source": [
    "#46.Round to given number of decimal places\n",
    "a = np.linspace(1, 2, 7)\n",
    "decimal_places = 2\n",
    "\n",
    "np_array =np.round(a,2)\n",
    "print(np_array)"
   ]
  },
  {
   "cell_type": "code",
   "execution_count": 26,
   "id": "efa142ec-1d45-4b40-ad7b-e3e3e70900a3",
   "metadata": {},
   "outputs": [
    {
     "name": "stdout",
     "output_type": "stream",
     "text": [
      "[  2.71828183   7.3890561   20.08553692  54.59815003 148.4131591 ]\n"
     ]
    }
   ],
   "source": [
    "#47.Calculate the element-wise exponential\n",
    "a = np.arange(1, 6)\n",
    "## array([1, 2, 3, 4, 5])\n",
    "\n",
    "np_array = np.exp(a)\n",
    "print(np_array)"
   ]
  },
  {
   "cell_type": "code",
   "execution_count": 27,
   "id": "e81171f5-cd4b-4113-bc8d-45047cabf3d0",
   "metadata": {},
   "outputs": [
    {
     "name": "stdout",
     "output_type": "stream",
     "text": [
      "[  2.72   7.39  20.09  54.6  148.41]\n"
     ]
    }
   ],
   "source": [
    "#48. Calculate the element-wise exponential and round to two decimal places\n",
    "a = np.arange(1, 6)\n",
    "## array([1, 2, 3, 4, 5])\n",
    "\n",
    "np_array = np.exp(a).round(2)\n",
    "print(np_array)"
   ]
  },
  {
   "cell_type": "code",
   "execution_count": 28,
   "id": "2316f056-2f36-495b-bbb4-265e0bbd2771",
   "metadata": {},
   "outputs": [
    {
     "name": "stdout",
     "output_type": "stream",
     "text": [
      "[0.         0.69314718 1.09861229 1.38629436 1.60943791]\n"
     ]
    }
   ],
   "source": [
    "#49. Calculate the element-wise natural logarithm \n",
    "a = np.arange(1, 6)\n",
    "## array([1, 2, 3, 4, 5])\n",
    "\n",
    "np_array = np.log(a)\n",
    "print(np_array)"
   ]
  },
  {
   "cell_type": "code",
   "execution_count": 29,
   "id": "7a34fe88-ecde-480f-a047-3df67d8cc207",
   "metadata": {},
   "outputs": [
    {
     "name": "stdout",
     "output_type": "stream",
     "text": [
      "[0.   0.69 1.1  1.39 1.61]\n"
     ]
    }
   ],
   "source": [
    "#50. Calculate the element-wise natural logarithm and round to two decimal places\n",
    "a = np.arange(1, 6)\n",
    "## array([1, 2, 3, 4, 5])\n",
    "\n",
    "np_array = np.log(a).round(2)\n",
    "print(np_array)"
   ]
  },
  {
   "cell_type": "code",
   "execution_count": 30,
   "id": "47bc4191-8b5a-4f8a-a39c-e08bb209f9d0",
   "metadata": {},
   "outputs": [
    {
     "name": "stdout",
     "output_type": "stream",
     "text": [
      "[0.         1.         1.5849625  2.         2.32192809]\n"
     ]
    }
   ],
   "source": [
    "#51.Calculate the element-wise logarithm at base 2\n",
    "a = np.arange(1, 6)\n",
    "## array([1, 2, 3, 4, 5])\n",
    "\n",
    "np_array = np.log2(a)\n",
    "print(np_array)"
   ]
  },
  {
   "cell_type": "code",
   "execution_count": 31,
   "id": "c190b7cd-8a3d-4c1a-8464-37fe6495f44b",
   "metadata": {},
   "outputs": [
    {
     "name": "stdout",
     "output_type": "stream",
     "text": [
      "[0. 1. 1. 2. 2.]\n"
     ]
    }
   ],
   "source": [
    "#52. Calculate the element-wise logarithm at base 2 and take floor of the result\n",
    "a = np.arange(1, 6)\n",
    "## array([1, 2, 3, 4, 5])\n",
    "\n",
    "np_array = np.floor(np.log2(a))\n",
    "print(np_array)"
   ]
  },
  {
   "cell_type": "code",
   "execution_count": 32,
   "id": "4f9fefa4-c1d6-4feb-9a26-c02a8bca807f",
   "metadata": {},
   "outputs": [
    {
     "name": "stdout",
     "output_type": "stream",
     "text": [
      "10\n"
     ]
    }
   ],
   "source": [
    "#53. Find the sum of numpy array elements\n",
    "a = np.array([[1, 2], [3, 4]])\n",
    "\n",
    "sum_of_array = np.sum(a)\n",
    "print(sum_of_array)"
   ]
  },
  {
   "cell_type": "code",
   "execution_count": 33,
   "id": "2e9d4905-f6da-4ba0-9eae-9b08bef9b9c8",
   "metadata": {},
   "outputs": [
    {
     "name": "stdout",
     "output_type": "stream",
     "text": [
      "[4 6]\n"
     ]
    }
   ],
   "source": [
    "#54. Find the row-wise sum of numpy array elements\n",
    "a = np.array([[1, 2], [3, 4]])\n",
    "\n",
    "sum_of_array = np.sum(a,axis=0)\n",
    "print(sum_of_array)"
   ]
  },
  {
   "cell_type": "code",
   "execution_count": 34,
   "id": "adbcfd92-5987-470a-b9ac-85a3bd328898",
   "metadata": {},
   "outputs": [
    {
     "name": "stdout",
     "output_type": "stream",
     "text": [
      "[3 7]\n"
     ]
    }
   ],
   "source": [
    "#55. Find the column-wise sum of numpy array elements\n",
    "a = np.array([[1, 2], [3, 4]])\n",
    "\n",
    "sum_of_array = np.sum(a,axis=1)\n",
    "print(sum_of_array)"
   ]
  },
  {
   "cell_type": "code",
   "execution_count": 36,
   "id": "6f3c8040-55d5-4311-822b-0593bf485689",
   "metadata": {},
   "outputs": [
    {
     "name": "stdout",
     "output_type": "stream",
     "text": [
      "24\n"
     ]
    }
   ],
   "source": [
    "#56. Calculate the product of array elements\n",
    "a = np.array([[1, 2], [3, 4]])\n",
    "\n",
    "prod_of_array = np.prod(a)\n",
    "print(prod_of_array)"
   ]
  },
  {
   "cell_type": "code",
   "execution_count": 37,
   "id": "13c3140e-d7d4-4e2c-ac2e-7921e5adca78",
   "metadata": {},
   "outputs": [
    {
     "name": "stdout",
     "output_type": "stream",
     "text": [
      "[3 8]\n"
     ]
    }
   ],
   "source": [
    "#57. Find the row-wise product of numpy array elements\n",
    "a = np.array([[1, 2], [3, 4]])\n",
    "\n",
    "prod_of_array = np.prod(a,axis=0)\n",
    "print(prod_of_array)"
   ]
  },
  {
   "cell_type": "code",
   "execution_count": 38,
   "id": "ac733b17-e469-4a14-b1df-3eeefaaa7631",
   "metadata": {},
   "outputs": [
    {
     "name": "stdout",
     "output_type": "stream",
     "text": [
      "[ 2 12]\n"
     ]
    }
   ],
   "source": [
    "#58. Find the column-wise product of numpy array element\n",
    "a = np.array([[1, 2], [3, 4]])\n",
    "\n",
    "prod_of_array = np.prod(a,axis=1)\n",
    "print(prod_of_array)"
   ]
  },
  {
   "cell_type": "code",
   "execution_count": 39,
   "id": "bafcb4f8-2bbe-4768-87a1-9d933c435a75",
   "metadata": {},
   "outputs": [
    {
     "name": "stdout",
     "output_type": "stream",
     "text": [
      "[[1.         1.41421356]\n",
      " [1.73205081 2.        ]]\n"
     ]
    }
   ],
   "source": [
    "#59. Compute the square root of array elements\n",
    "a = np.array([[1, 2], [3, 4]])\n",
    "\n",
    "np_array = np.sqrt(a)\n",
    "print(np_array)"
   ]
  },
  {
   "cell_type": "markdown",
   "id": "7497c12f-ddac-4d1c-9af5-4a51abd88d6d",
   "metadata": {},
   "source": [
    "### Matrix and Vector Operations"
   ]
  },
  {
   "cell_type": "code",
   "execution_count": 42,
   "id": "c843f02f-0a16-4192-8498-2732fa3118d3",
   "metadata": {},
   "outputs": [
    {
     "name": "stdout",
     "output_type": "stream",
     "text": [
      "[[3 3]\n",
      " [7 7]]\n"
     ]
    }
   ],
   "source": [
    "#60. Compute the dot product of two NumPy arrays\n",
    "a = np.array([[1, 2], [3, 4]])\n",
    "b = np.array([[1, 1], [1, 1]])\n",
    "\n",
    "np_array = np.dot(a,b)\n",
    "print(np_array)"
   ]
  },
  {
   "cell_type": "code",
   "execution_count": 45,
   "id": "13912e67-aaa7-4bd8-9b4f-2b5d9538c40f",
   "metadata": {},
   "outputs": [
    {
     "name": "stdout",
     "output_type": "stream",
     "text": [
      "[3 7]\n"
     ]
    }
   ],
   "source": [
    "#61.Compute the row-wise dot product of two NumPy arrays \n",
    "a = np.array([[1, 2], [3, 4]])\n",
    "b = np.array([[1, 1], [1, 1]])\n",
    "\n",
    "np_array = np.einsum(\"ij,ij->i\",a,b)\n",
    "print(np_array)"
   ]
  },
  {
   "cell_type": "code",
   "execution_count": 50,
   "id": "4c3a91e5-2411-42f9-ba18-4fae894c4a25",
   "metadata": {},
   "outputs": [
    {
     "name": "stdout",
     "output_type": "stream",
     "text": [
      "[[3 3]\n",
      " [7 7]]\n"
     ]
    }
   ],
   "source": [
    "#62. Compute the matrix product of two NumPy arrays\n",
    "a = np.array([[1, 2], [3, 4]])\n",
    "b = np.array([[1, 1], [1, 1]])\n",
    "\n",
    "np_array = np.matmul(a,b)\n",
    "print(np_array)"
   ]
  },
  {
   "cell_type": "code",
   "execution_count": 51,
   "id": "cde5f33b-c4b9-40cc-aa05-fe186fb42bbc",
   "metadata": {},
   "outputs": [
    {
     "name": "stdout",
     "output_type": "stream",
     "text": [
      "[[3 3]\n",
      " [7 7]]\n"
     ]
    }
   ],
   "source": [
    "#63. Compute the matrix product of two NumPy arrays using the @ operator\n",
    "a = np.array([[1, 2], [3, 4]])\n",
    "b = np.array([[1, 1], [1, 1]])\n",
    "\n",
    "np_array = a@b\n",
    "print(np_array)"
   ]
  },
  {
   "cell_type": "code",
   "execution_count": 53,
   "id": "776ae559-ad9a-4abf-aaa1-b1eb3d1ec78e",
   "metadata": {},
   "outputs": [
    {
     "name": "stdout",
     "output_type": "stream",
     "text": [
      "7.745966692414834\n"
     ]
    }
   ],
   "source": [
    "#64.Compute the length of the vector\n",
    "a = np.arange(-4, 5)\n",
    "\n",
    "vec_len = np.linalg.norm(a)\n",
    "print(vec_len)"
   ]
  },
  {
   "cell_type": "code",
   "execution_count": 54,
   "id": "e780e068-0c91-4328-a59c-f1f68a971bc7",
   "metadata": {},
   "outputs": [
    {
     "name": "stdout",
     "output_type": "stream",
     "text": [
      "[[1 1]\n",
      " [3 4]]\n"
     ]
    }
   ],
   "source": [
    "#65.Sort the array inplace row-wise\n",
    "a = np.array([[1,4],[3,1]])\n",
    "\n",
    "np_array = np.sort(a,axis=0)\n",
    "print(np_array)"
   ]
  },
  {
   "cell_type": "code",
   "execution_count": 55,
   "id": "4c3cbe71-79b5-491e-bb44-304a05702743",
   "metadata": {},
   "outputs": [
    {
     "name": "stdout",
     "output_type": "stream",
     "text": [
      "[[1 4]\n",
      " [1 3]]\n"
     ]
    }
   ],
   "source": [
    "#66. Sort the array inplace column-wise\n",
    "a = np.array([[1,4],[3,1]])\n",
    "\n",
    "np_array = np.sort(a,axis=1)\n",
    "print(np_array)"
   ]
  },
  {
   "cell_type": "code",
   "execution_count": 57,
   "id": "6562e024-b919-4648-b220-fe0d39aad1ec",
   "metadata": {},
   "outputs": [
    {
     "name": "stdout",
     "output_type": "stream",
     "text": [
      "[1 1 3 4]\n"
     ]
    }
   ],
   "source": [
    "#67. Sort the flattened array\n",
    "a = np.array([[1,4],[3,1]])\n",
    "\n",
    "np_array = np.sort(a.flatten())\n",
    "print(np_array)"
   ]
  },
  {
   "cell_type": "code",
   "execution_count": 58,
   "id": "0710270a-3c80-4d87-807e-abacce6569ec",
   "metadata": {},
   "outputs": [
    {
     "name": "stdout",
     "output_type": "stream",
     "text": [
      "[1 2 3]\n"
     ]
    }
   ],
   "source": [
    "#68. Order of Indices in a Sorted NumPy Array\n",
    "a = np.array([3, 1, 2])\n",
    "\n",
    "np_array = np.sort(a)\n",
    "print(np_array)"
   ]
  },
  {
   "cell_type": "code",
   "execution_count": 64,
   "id": "ac2e7055-b778-4856-bb64-c0cdb9e0acd3",
   "metadata": {},
   "outputs": [],
   "source": [
    "#69-71. Find the index corresponding to the Maximum Values.\n",
    "a = np.array([[15, 13, 10,  1, 18],\n",
    "              [14, 19, 19, 17,  8]])"
   ]
  },
  {
   "cell_type": "code",
   "execution_count": 60,
   "id": "66f1f664-cf57-464b-8c5c-623a10162e19",
   "metadata": {},
   "outputs": [
    {
     "data": {
      "text/plain": [
       "6"
      ]
     },
     "execution_count": 60,
     "metadata": {},
     "output_type": "execute_result"
    }
   ],
   "source": [
    "#69.In a flattened array:\n",
    "Flat_array=np.argmax(a.flatten())\n",
    "Flat_array"
   ]
  },
  {
   "cell_type": "code",
   "execution_count": 66,
   "id": "995e85ae-c830-4f57-a822-1370ebd244c4",
   "metadata": {},
   "outputs": [
    {
     "data": {
      "text/plain": [
       "array([0, 1, 1, 1, 0])"
      ]
     },
     "execution_count": 66,
     "metadata": {},
     "output_type": "execute_result"
    }
   ],
   "source": [
    "#70.Indices of max along column\n",
    "max_col=np.argmax(a,axis=0)\n",
    "max_col"
   ]
  },
  {
   "cell_type": "code",
   "execution_count": 67,
   "id": "89777184-a799-402c-8cd5-757388852b16",
   "metadata": {},
   "outputs": [
    {
     "data": {
      "text/plain": [
       "array([4, 1])"
      ]
     },
     "execution_count": 67,
     "metadata": {},
     "output_type": "execute_result"
    }
   ],
   "source": [
    "#71.Indices of max along row\n",
    "max_col=np.argmax(a,axis=1)\n",
    "max_col"
   ]
  },
  {
   "cell_type": "markdown",
   "id": "595c5107-dc3a-4f96-ad7f-401436606336",
   "metadata": {},
   "source": [
    "## Find the index corresponding to the Minimum Values.\n"
   ]
  },
  {
   "cell_type": "code",
   "execution_count": 4,
   "id": "fa6361a3-eadd-4225-8953-86da7e6ec48f",
   "metadata": {},
   "outputs": [],
   "source": [
    "a = np.array([[15, 13, 10,  1, 18],\n",
    "              [14, 19, 19, 17,  8]])"
   ]
  },
  {
   "cell_type": "code",
   "execution_count": 5,
   "id": "76fc3190-4f46-4058-984e-6a6d6e13101d",
   "metadata": {},
   "outputs": [
    {
     "name": "stdout",
     "output_type": "stream",
     "text": [
      "3\n"
     ]
    }
   ],
   "source": [
    "#72. In a flattened array\n",
    "min_index=np.argmin(a.flatten())\n",
    "print(min_index)"
   ]
  },
  {
   "cell_type": "code",
   "execution_count": 7,
   "id": "0ed2e0a6-1c45-44bd-98c8-712ed9e4d041",
   "metadata": {},
   "outputs": [
    {
     "name": "stdout",
     "output_type": "stream",
     "text": [
      "[1 0 0 0 1]\n"
     ]
    }
   ],
   "source": [
    "#73.Indices of min along column\n",
    "min_index=np.argmin(a,axis=0)\n",
    "print(min_index)"
   ]
  },
  {
   "cell_type": "code",
   "execution_count": 8,
   "id": "22e2dd63-ae1d-4c2e-af50-f4281b2ae77c",
   "metadata": {},
   "outputs": [
    {
     "name": "stdout",
     "output_type": "stream",
     "text": [
      "[3 4]\n"
     ]
    }
   ],
   "source": [
    "#74.Indices of min along row\n",
    "min_index=np.argmin(a,axis=1)\n",
    "print(min_index)"
   ]
  },
  {
   "cell_type": "code",
   "execution_count": 11,
   "id": "62f38f2a-e982-41ad-8ea4-fa0a615ff0e8",
   "metadata": {},
   "outputs": [
    {
     "name": "stdout",
     "output_type": "stream",
     "text": [
      "(array([0, 1, 2, 2]), array([0, 1, 0, 1]))\n"
     ]
    }
   ],
   "source": [
    "#75. Print the indices of non-zero elements\n",
    "a = np.array([[3, 0, 0], [0, 4, 0], [5, 6, 0]])\n",
    "\n",
    "non_zero_ind = np.nonzero(a)\n",
    "print(non_zero_ind)"
   ]
  },
  {
   "cell_type": "code",
   "execution_count": 13,
   "id": "38554963-456a-4cad-a244-dd269437f06d",
   "metadata": {},
   "outputs": [
    {
     "name": "stdout",
     "output_type": "stream",
     "text": [
      "2.5\n"
     ]
    }
   ],
   "source": [
    "#76. Find the mean of the whole numpy array\n",
    "a = np.array([[1, 2], [3, 4]])\n",
    "\n",
    "mean = np.mean(a)\n",
    "print(mean)"
   ]
  },
  {
   "cell_type": "code",
   "execution_count": 14,
   "id": "98677c80-ca7a-4946-9fc5-b081527532ac",
   "metadata": {},
   "outputs": [
    {
     "name": "stdout",
     "output_type": "stream",
     "text": [
      "[2. 3.]\n"
     ]
    }
   ],
   "source": [
    "#77. Find the mean of the numpy array along row-axis\n",
    "a = np.array([[1, 2], [3, 4]])\n",
    "\n",
    "mean = np.mean(a,axis=0)\n",
    "print(mean)"
   ]
  },
  {
   "cell_type": "code",
   "execution_count": 15,
   "id": "db8065dc-2124-4ad4-b55f-b32663459b39",
   "metadata": {},
   "outputs": [
    {
     "name": "stdout",
     "output_type": "stream",
     "text": [
      "[1.5 3.5]\n"
     ]
    }
   ],
   "source": [
    "#78. Find the mean of the numpy array along column-axis\n",
    "a = np.array([[1, 2], [3, 4]])\n",
    "\n",
    "mean = np.mean(a,axis=1)\n",
    "print(mean)"
   ]
  },
  {
   "cell_type": "code",
   "execution_count": 16,
   "id": "91d68bbe-c5e2-44e7-aa77-71c0ffb1df88",
   "metadata": {},
   "outputs": [
    {
     "name": "stdout",
     "output_type": "stream",
     "text": [
      "2.5\n"
     ]
    }
   ],
   "source": [
    "#79. Find the median of the whole numpy array\n",
    "a = np.array([[1, 2], [3, 4]])\n",
    "\n",
    "median = np.median(a)\n",
    "print(median)"
   ]
  },
  {
   "cell_type": "code",
   "execution_count": 17,
   "id": "ea58b8c5-a689-47b8-b9cd-f2e57dcfd49e",
   "metadata": {},
   "outputs": [
    {
     "name": "stdout",
     "output_type": "stream",
     "text": [
      "[2. 3.]\n"
     ]
    }
   ],
   "source": [
    "#80. Find the median of the numpy array along row-axis\n",
    "a = np.array([[1, 2], [3, 4]])\n",
    "\n",
    "median = np.median(a,axis=0)\n",
    "print(median)"
   ]
  },
  {
   "cell_type": "code",
   "execution_count": 19,
   "id": "ee83a512-9266-4001-9701-a857b2791f13",
   "metadata": {},
   "outputs": [
    {
     "name": "stdout",
     "output_type": "stream",
     "text": [
      "[1.5 3.5]\n"
     ]
    }
   ],
   "source": [
    "#81. Find the median of the numpy array along columns-axis\n",
    "a = np.array([[1, 2], [3, 4]])\n",
    "\n",
    "median = np.median(a,axis=1)\n",
    "print(median)"
   ]
  },
  {
   "cell_type": "code",
   "execution_count": 21,
   "id": "2f86ee09-098e-439c-9525-8625e4298b95",
   "metadata": {},
   "outputs": [
    {
     "name": "stdout",
     "output_type": "stream",
     "text": [
      "standard deveiation: 1.118033988749895\n",
      "standard deveiation row: [1. 1.]\n",
      "standard deveiation column: [0.5 0.5]\n"
     ]
    }
   ],
   "source": [
    "#82-84.Find the std dev of the whole numpy array\n",
    "a = np.array([[1, 2], [3, 4]])\n",
    "\n",
    "std_dev = np.std(a)\n",
    "std_dev_row=np.std(a,axis=0)\n",
    "std_dev_col=np.std(a,axis=1)\n",
    "print(\"standard deveiation:\",std_dev)\n",
    "print(\"standard deveiation row:\",std_dev_row)\n",
    "print(\"standard deveiation column:\",std_dev_col)"
   ]
  },
  {
   "cell_type": "code",
   "execution_count": 22,
   "id": "730ef71a-f849-4105-9db9-3848345c0e69",
   "metadata": {},
   "outputs": [
    {
     "data": {
      "text/plain": [
       "'For more such notes connect with \"Govind Kumar\" over LinkedIn...'"
      ]
     },
     "execution_count": 22,
     "metadata": {},
     "output_type": "execute_result"
    }
   ],
   "source": [
    "#Done with the Basic Functions of numpy till now...\n",
    "\"\"\"For more such notes connect with \"Govind Kumar\" over LinkedIn...\"\"\""
   ]
  },
  {
   "cell_type": "code",
   "execution_count": null,
   "id": "52db774d-15e5-447b-a2a5-cb6abddef04e",
   "metadata": {},
   "outputs": [],
   "source": []
  }
 ],
 "metadata": {
  "kernelspec": {
   "display_name": "Python 3 (ipykernel)",
   "language": "python",
   "name": "python3"
  },
  "language_info": {
   "codemirror_mode": {
    "name": "ipython",
    "version": 3
   },
   "file_extension": ".py",
   "mimetype": "text/x-python",
   "name": "python",
   "nbconvert_exporter": "python",
   "pygments_lexer": "ipython3",
   "version": "3.10.8"
  }
 },
 "nbformat": 4,
 "nbformat_minor": 5
}
